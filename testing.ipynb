{
 "cells": [
  {
   "cell_type": "code",
   "execution_count": 7,
   "metadata": {},
   "outputs": [],
   "source": [
    "from litellm import completion\n",
    "from typing import List, Dict, Any, Optional\n",
    "import jinja2\n",
    "from abc import ABC, abstractmethod\n",
    "\n",
    "with open(\"templates/system_message.jinja2\", \"r\") as file:\n",
    "    system_message = jinja2.Template(file.read()).render(tools=\"\")\n",
    "\n"
   ]
  },
  {
   "cell_type": "code",
   "execution_count": null,
   "metadata": {},
   "outputs": [],
   "source": [
    "# Objective: Create a conversation object that can be used to send messages to the model and get responses and tools\n",
    "class Conversation:\n",
    "    def __init__(self, model: str = \"gpt-4o-mini\"):\n",
    "        self.model = model\n",
    "        self.messages = []\n",
    "\n",
    "    def add_message(self, role, content):\n",
    "        self.messages.append({\"role\": role, \"content\": content})\n",
    "\n",
    "    def get_response(self, tool_choice: str = \"auto\", tools: Optional[List] = None):\n",
    "        if tools is None:\n",
    "            tool_choice = None\n",
    "        return completion(\n",
    "            model=self.model,\n",
    "            messages=self.messages,\n",
    "            tools=tools,\n",
    "            tool_choice=tool_choice,\n",
    "        )\n",
    "\n",
    "\n",
    "class Tool(ABC):\n",
    "    def __init__(self):\n",
    "        pass\n",
    "\n",
    "    # method to run the tool.\n",
    "    @abstractmethod\n",
    "    def run(self, conversation: Conversation) -> Dict[str, Any]:\n",
    "        pass\n",
    "\n",
    "    # method to get config for the tool.\n",
    "    @abstractmethod\n",
    "    def get_config(self) -> Dict[str, Any]:\n",
    "        pass\n",
    "\n",
    "\n",
    "class Reasoning(Tool):\n",
    "    def __init__(self):\n",
    "        pass\n",
    "\n",
    "    def run(self, conversation: Conversation) -> Dict[str, Any]:\n",
    "        with open(\"templates/reasoning.jinja2\", \"r\") as file:\n",
    "            reasoning_template = jinja2.Template(file.read()).render()\n",
    "        conversation.add_message(\"system\", reasoning_template)\n",
    "        response = conversation.get_response()\n",
    "        conversation.messages.pop()  # remove the reasoning message and note that no other message has been added to the conversation as add_message method from Conversation class has not been called.\n",
    "        return response\n",
    "\n",
    "    def get_config(self) -> Dict[str, Any]:\n",
    "        return {\n",
    "            \"type\": \"function\",\n",
    "            \"function\": {\n",
    "                \"name\": \"reasoning\",\n",
    "                \"description\": \"This tool provides reasoning for the given context.\",\n",
    "            },\n",
    "        }\n",
    "\n",
    "\n",
    "class Respond(Tool):\n",
    "    def __init__(self):\n",
    "        pass\n",
    "\n",
    "    def run(self, conversation: Conversation) -> Dict[str, Any]:\n",
    "        with open(\"templates/respond.jinja2\", \"r\") as file:\n",
    "            reasoning_template = jinja2.Template(file.read()).render()\n",
    "        conversation.add_message(\"system\", reasoning_template)\n",
    "        response = conversation.get_response()\n",
    "        conversation.messages.pop()\n",
    "        return response\n",
    "\n",
    "    def get_config(self) -> Dict[str, Any]:\n",
    "        return {\n",
    "            \"type\": \"function\",\n",
    "            \"function\": {\n",
    "                \"name\": \"respond\",\n",
    "                \"description\": \"This tool provides responses for the given user message.\",\n",
    "            },\n",
    "        }\n",
    "\n",
    "# An agent is a tool that can be used to interact with the model and get responses and use tools as required.\n",
    "class Agent(Tool):\n",
    "    def __init__(self):\n",
    "        pass\n",
    "\n"
   ]
  },
  {
   "cell_type": "code",
   "execution_count": null,
   "metadata": {},
   "outputs": [
    {
     "name": "stdout",
     "output_type": "stream",
     "text": [
      "ModelResponse(id='chatcmpl-AyPJ9E7PMLtAgUfvJ0CidSDyLfTSS', created=1738960327, model='gpt-4o-mini-2024-07-18', object='chat.completion', system_fingerprint='fp_72ed7ab54c', choices=[Choices(finish_reason='stop', index=0, message=Message(content='I am an autonomous market research agent, designed to assist you with information and insights related to market trends, consumer behavior, and various industries. How can I help you today?', role='assistant', tool_calls=None, function_call=None, provider_specific_fields={'refusal': None}, refusal=None))], usage=Usage(completion_tokens=36, prompt_tokens=61, total_tokens=97, completion_tokens_details=CompletionTokensDetailsWrapper(accepted_prediction_tokens=0, audio_tokens=0, reasoning_tokens=0, rejected_prediction_tokens=0, text_tokens=None), prompt_tokens_details=PromptTokensDetailsWrapper(audio_tokens=0, cached_tokens=0, text_tokens=None, image_tokens=None)), service_tier='default')\n"
     ]
    }
   ],
   "source": [
    "conversation = Conversation()\n",
    "\n",
    "conversation.add_message(\"system\", system_message)\n",
    "conversation.add_message(\"user\", \"Hello, what are you?\")\n",
    "response = conversation.get_response()\n",
    "print(response)"
   ]
  }
 ],
 "metadata": {
  "kernelspec": {
   "display_name": "autonomous-market-research-agent-8W59owSb-py3.13",
   "language": "python",
   "name": "python3"
  },
  "language_info": {
   "codemirror_mode": {
    "name": "ipython",
    "version": 3
   },
   "file_extension": ".py",
   "mimetype": "text/x-python",
   "name": "python",
   "nbconvert_exporter": "python",
   "pygments_lexer": "ipython3",
   "version": "3.13.0"
  }
 },
 "nbformat": 4,
 "nbformat_minor": 2
}
